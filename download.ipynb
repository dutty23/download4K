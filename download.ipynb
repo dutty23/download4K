{
 "cells": [
  {
   "cell_type": "code",
   "execution_count": 1,
   "metadata": {},
   "outputs": [
    {
     "name": "stdout",
     "output_type": "stream",
     "text": [
      "Collecting yt-dlp\n",
      "  Downloading yt_dlp-2025.1.26-py3-none-any.whl.metadata (172 kB)\n",
      "Downloading yt_dlp-2025.1.26-py3-none-any.whl (3.2 MB)\n",
      "   ---------------------------------------- 0.0/3.2 MB ? eta -:--:--\n",
      "   ---------------------------------------- 3.2/3.2 MB 37.6 MB/s eta 0:00:00\n",
      "Installing collected packages: yt-dlp\n",
      "Successfully installed yt-dlp-2025.1.26\n"
     ]
    },
    {
     "name": "stderr",
     "output_type": "stream",
     "text": [
      "\n",
      "[notice] A new release of pip is available: 24.3.1 -> 25.0.1\n",
      "[notice] To update, run: python.exe -m pip install --upgrade pip\n"
     ]
    }
   ],
   "source": [
    "!pip install yt-dlp\n"
   ]
  },
  {
   "cell_type": "code",
   "execution_count": null,
   "metadata": {},
   "outputs": [
    {
     "name": "stdout",
     "output_type": "stream",
     "text": [
      "Iniciando o download do vídeo: https://youtu.be/1H3ifm8Zgtc\n",
      "[youtube] Extracting URL: https://youtu.be/1H3ifm8Zgtc\n",
      "[youtube] 1H3ifm8Zgtc: Downloading webpage\n",
      "[youtube] 1H3ifm8Zgtc: Downloading tv client config\n",
      "[youtube] 1H3ifm8Zgtc: Downloading player 074a8365\n",
      "[youtube] 1H3ifm8Zgtc: Downloading tv player API JSON\n",
      "[youtube] 1H3ifm8Zgtc: Downloading ios player API JSON\n",
      "[youtube] 1H3ifm8Zgtc: Downloading m3u8 information\n",
      "[info] 1H3ifm8Zgtc: Downloading 1 format(s): 616+251\n"
     ]
    },
    {
     "name": "stderr",
     "output_type": "stream",
     "text": [
      "ERROR: You have requested merging of multiple formats but ffmpeg is not installed. Aborting due to --abort-on-error\n"
     ]
    },
    {
     "name": "stdout",
     "output_type": "stream",
     "text": [
      "Erro durante o download: ERROR: You have requested merging of multiple formats but ffmpeg is not installed. Aborting due to --abort-on-error\n"
     ]
    }
   ],
   "source": [
    "import yt_dlp\n",
    "import os \n",
    "\n",
    "def download_youtube_video(url):\n",
    "    try:\n",
    "        output_path = os.path.join(os.getcwd(), \"Downloads\")\n",
    "        os.makedirs(output_path, exist_ok=True)\n",
    "\n",
    "        ydl_opts = {\n",
    "            'format': 'bestvideo[height<=2160]+bestaudio/best',  # Força qualidade até 4K\n",
    "            'outtmpl': os.path.join(output_path, '%(title)s.%(ext)s'),\n",
    "        }\n",
    "\n",
    "        with yt_dlp.YoutubeDL(ydl_opts) as ydl:\n",
    "            print(f\"Iniciando o download do vídeo: {url}\")\n",
    "            ydl.download([url])\n",
    "\n",
    "        print(f\"Download concluído! Salvo em {output_path}\")\n",
    "\n",
    "    except Exception as e:\n",
    "        print(f\"Erro durante o download: {e}\")\n",
    "\n",
    "if __name__ == \"__main__\":\n",
    "    video_url = input(\"Digite a URL do vídeo do YouTube: \")\n",
    "    if video_url.strip():\n",
    "        download_youtube_video(video_url)\n",
    "    else:\n",
    "        print(\"A URL fornecida é inválida.\")\n"
   ]
  }
 ],
 "metadata": {
  "kernelspec": {
   "display_name": "Python 3",
   "language": "python",
   "name": "python3"
  },
  "language_info": {
   "codemirror_mode": {
    "name": "ipython",
    "version": 3
   },
   "file_extension": ".py",
   "mimetype": "text/x-python",
   "name": "python",
   "nbconvert_exporter": "python",
   "pygments_lexer": "ipython3",
   "version": "3.13.1"
  }
 },
 "nbformat": 4,
 "nbformat_minor": 2
}
